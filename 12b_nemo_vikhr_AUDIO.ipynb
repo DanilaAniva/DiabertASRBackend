{
 "cells": [
  {
   "cell_type": "markdown",
   "metadata": {},
   "source": [
    "### 1. Использование Vikhr-12B-NEMO для извлечения информации"
   ]
  },
  {
   "cell_type": "code",
   "execution_count": 1,
   "metadata": {},
   "outputs": [
    {
     "name": "stderr",
     "output_type": "stream",
     "text": [
      "/home/tailab/miniconda3/envs/asr/lib/python3.12/site-packages/tqdm/auto.py:21: TqdmWarning: IProgress not found. Please update jupyter and ipywidgets. See https://ipywidgets.readthedocs.io/en/stable/user_install.html\n",
      "  from .autonotebook import tqdm as notebook_tqdm\n",
      "Loading checkpoint shards: 100%|██████████| 5/5 [00:07<00:00,  1.44s/it]\n",
      "Device set to use cuda:0\n",
      "/home/tailab/miniconda3/envs/asr/lib/python3.12/site-packages/bitsandbytes/nn/modules.py:451: UserWarning: Input type into Linear4bit is torch.float16, but bnb_4bit_compute_dtype=torch.float32 (default). This will lead to slow inference or training speed.\n",
      "  warnings.warn(\n"
     ]
    },
    {
     "name": "stdout",
     "output_type": "stream",
     "text": [
      "{\n",
      "    \"events\": [\n",
      "        {\n",
      "            \"start\": \"12:00\",\n",
      "            \"end\": \"15:00\",\n",
      "            \"action\": \"занялся ML\"\n",
      "        },\n",
      "        {\n",
      "            \"start\": \"16:00\",\n",
      "            \"end\": \"18:00\",\n",
      "            \"action\": \"обучал нейронные сети\"\n",
      "        }\n",
      "    ]\n",
      "}\n"
     ]
    }
   ],
   "source": [
    "# Импорт необходимых модулей и функций\n",
    "from executors import init_vikhr_model\n",
    "from services  import parse_audio\n",
    "from models import AudioText\n",
    "import json\n",
    "\n",
    "# Инициализация модели\n",
    "pipeline, terminators = init_vikhr_model()\n",
    "\n",
    "# Входные данные\n",
    "texts = [\n",
    "    \"Меня заставили заниматься ML с 12:00 по 15:00. Но с 16:00 до 18:00 я наконец-то пошел обучать нейронки\",\n",
    "    \"В 14:00 я начал заниматься спортом и закончил в 15:00. Потом с 15:00 до 16:00 я отдыхал.\",\n",
    "    \"С 18:00 до 19:00 я готовил ужин. С 19:00 до 20:00 я смотрел фильм.\"\n",
    "]\n",
    "\n",
    "# Создаем объект AudioText\n",
    "audio_input = AudioText(text=texts[0])  # Используем первый текст из списка\n",
    "\n",
    "# Обработка текста\n",
    "results = parse_audio(audio_input, pipeline, terminators)\n",
    "\n",
    "# Вывод результата\n",
    "print(json.dumps(results, ensure_ascii=False, indent=4))"
   ]
  }
 ],
 "metadata": {
  "kernelspec": {
   "display_name": "asr",
   "language": "python",
   "name": "python3"
  },
  "language_info": {
   "codemirror_mode": {
    "name": "ipython",
    "version": 3
   },
   "file_extension": ".py",
   "mimetype": "text/x-python",
   "name": "python",
   "nbconvert_exporter": "python",
   "pygments_lexer": "ipython3",
   "version": "3.12.7"
  }
 },
 "nbformat": 4,
 "nbformat_minor": 2
}
